{
 "cells": [
  {
   "cell_type": "code",
   "execution_count": null,
   "metadata": {},
   "outputs": [],
   "source": [
    "from pathlib import Path\n",
    "import pandas as pd\n",
    "import numpy as np\n",
    "#result = list(Path(\"../llms-eval/NLI/\").rglob(\"*.csv\"))\n",
    "result_gpt4 = list(Path(\"../llm-eval-gpt4/sentiment/gpt4/\").rglob(\"*.csv\"))\n",
    "result_expert = list(Path(\"../llm-eval-gpt4/sentiment/expert/\").rglob(\"*.csv\"))"
   ]
  },
  {
   "cell_type": "code",
   "execution_count": null,
   "metadata": {},
   "outputs": [],
   "source": [
    "df_gpt = pd.read_csv(result_gpt4[0])\n",
    "df_exp = pd.read_csv(result_expert[0])\n",
    "\n",
    "\n",
    "for df in [df_gpt, df_exp]:\n",
    "    df['avg'] = df.apply(lambda x: np.mean([x['flip_label'] + x['minimal_change_1'] + x['distribution']]), axis=1 )\n",
    "\n",
    "df_gpt.head()"
   ]
  },
  {
   "cell_type": "code",
   "execution_count": null,
   "metadata": {},
   "outputs": [],
   "source": [
    "df_exp.head()"
   ]
  },
  {
   "cell_type": "code",
   "execution_count": null,
   "metadata": {},
   "outputs": [],
   "source": [
    "df_merged = pd.merge(df_gpt, df_exp, on=['original_text', 'original label'], how='inner', suffixes=['_gpt', '_exp'])\n",
    "df_merged.head()"
   ]
  },
  {
   "cell_type": "code",
   "execution_count": null,
   "metadata": {},
   "outputs": [],
   "source": [
    "len(df_gpt)"
   ]
  },
  {
   "cell_type": "code",
   "execution_count": null,
   "metadata": {},
   "outputs": [],
   "source": [
    "len(df_exp)"
   ]
  },
  {
   "cell_type": "code",
   "execution_count": null,
   "metadata": {},
   "outputs": [],
   "source": [
    "att1 = 'flip_label'\n",
    "att2 = 'minimal_change_1'\n",
    "att3 = 'distribution'\n",
    "df_gpt_better = df_merged[(df_merged[att1 + '_gpt'] > df_merged[att1 + '_exp']) & (df_merged[att2 + '_gpt'] > df_merged[att2 + '_exp']) & (df_merged[att3 + '_gpt'] > df_merged[att3 + '_exp'])]\n",
    "df_exp_better = df_merged[(df_merged[att1 + '_gpt'] < df_merged[att1 + '_exp']) & (df_merged[att2 + '_gpt'] < df_merged[att2 + '_exp']) & (df_merged[att3 + '_gpt'] < df_merged[att3 + '_exp'])]"
   ]
  },
  {
   "cell_type": "code",
   "execution_count": null,
   "metadata": {},
   "outputs": [],
   "source": [
    "df_exp_better.columns"
   ]
  },
  {
   "cell_type": "code",
   "execution_count": null,
   "metadata": {},
   "outputs": [],
   "source": [
    "print(len(df_gpt_better), len(df_exp_better))"
   ]
  },
  {
   "cell_type": "code",
   "execution_count": null,
   "metadata": {},
   "outputs": [],
   "source": [
    "df_gpt_better[['original_text', 'original label', 'contrast text_gpt', 'contrast text_exp', att1 + '_gpt', att1 + '_exp', att2 + '_gpt', att2 + '_exp', att3 + '_gpt', att3 + '_exp']].to_csv('./bias_analysis/' + 'all'  + '_gpt.csv', index=False)"
   ]
  }
 ],
 "metadata": {
  "kernelspec": {
   "display_name": "cfg",
   "language": "python",
   "name": "python3"
  },
  "language_info": {
   "codemirror_mode": {
    "name": "ipython",
    "version": 3
   },
   "file_extension": ".py",
   "mimetype": "text/x-python",
   "name": "python",
   "nbconvert_exporter": "python",
   "pygments_lexer": "ipython3",
   "version": "3.9.12"
  }
 },
 "nbformat": 4,
 "nbformat_minor": 2
}
