{
 "cells": [
  {
   "cell_type": "code",
   "execution_count": null,
   "metadata": {},
   "outputs": [],
   "source": [
    "from evaluate import load\n",
    "import pandas as pd\n",
    "\n",
    "import os\n",
    "import torch\n",
    "\n",
    "os.environ[\"CUDA_VISIBLE_DEVICES\"] = \"3\"\n",
    "\n"
   ]
  },
  {
   "cell_type": "code",
   "execution_count": null,
   "metadata": {},
   "outputs": [],
   "source": [
    "import pathlib\n",
    "pathlib.Path().resolve()"
   ]
  },
  {
   "cell_type": "code",
   "execution_count": null,
   "metadata": {},
   "outputs": [],
   "source": [
    "perplexity = load(\"perplexity\", module_type=\"metric\")\n",
    "\n",
    "from pathlib import Path\n",
    "result = list(Path(\"../llms-ppl-preds/\").rglob(\"*.tsv\"))\n",
    "result = [str(x) for x in result]\n",
    "result"
   ]
  },
  {
   "cell_type": "code",
   "execution_count": null,
   "metadata": {},
   "outputs": [],
   "source": [
    "for s in result:\n",
    "    if 'speech' in s.lower():\n",
    "        df = pd.read_csv(s, sep='\\t')\n",
    "        ppls = perplexity.compute(predictions=df['Text'].values, model_id='gpt2')\n",
    "        df['ppl'] = ppls['perplexities']\n",
    "        df.to_csv(s, sep='\\t', index=False)"
   ]
  },
  {
   "cell_type": "code",
   "execution_count": null,
   "metadata": {},
   "outputs": [],
   "source": [
    "for s in result:\n",
    "    if 'sentiment' in s or 'imdb' in s.lower():\n",
    "        df = pd.read_csv(s, sep='\\t')\n",
    "        ppls = perplexity.compute(predictions=df['Text'].values, model_id='gpt2')\n",
    "        df['ppl'] = ppls['perplexities']\n",
    "        df.to_csv(s, sep='\\t', index=False)"
   ]
  },
  {
   "cell_type": "code",
   "execution_count": null,
   "metadata": {},
   "outputs": [],
   "source": [
    "for s in result:\n",
    "    if 'nli' in s.lower():\n",
    "        print(s)\n",
    "        df = pd.read_csv(s, sep='\\t')\n",
    "        ppls = perplexity.compute(predictions=df.apply(lambda x: x['sentence1'] + ' ' + x['sentence2'], axis=1).values, model_id='gpt2')\n",
    "        df['ppl'] = ppls['perplexities']\n",
    "        df.to_csv(s, sep='\\t', index=False)"
   ]
  },
  {
   "cell_type": "code",
   "execution_count": null,
   "metadata": {},
   "outputs": [],
   "source": [
    "for s in result:\n",
    "    df = pd.read_csv(s, sep='\\t')\n",
    "    assert ('ppl' in df.columns)\n"
   ]
  }
 ],
 "metadata": {
  "kernelspec": {
   "display_name": "cfg",
   "language": "python",
   "name": "python3"
  },
  "language_info": {
   "codemirror_mode": {
    "name": "ipython",
    "version": 3
   },
   "file_extension": ".py",
   "mimetype": "text/x-python",
   "name": "python",
   "nbconvert_exporter": "python",
   "pygments_lexer": "ipython3",
   "version": "3.9.12"
  }
 },
 "nbformat": 4,
 "nbformat_minor": 2
}
