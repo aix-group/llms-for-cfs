{
 "cells": [
  {
   "cell_type": "code",
   "execution_count": 16,
   "metadata": {},
   "outputs": [],
   "source": [
    "import pandas as pd\n",
    "import numpy as np\n",
    " \n",
    "\n",
    "def compute_fliprate(df):\n",
    "    # Flip rate is the accuracy with respect to the target labels\n",
    "    # If the predicted sentiment is equal to the target we used to create the CF, then the label was flipped\n",
    "    scores = []\n",
    "    for i, row in df.iterrows():\n",
    "        if row['Sentiment'] == row['Predicted_sentiment']:\n",
    "            scores.append(1)\n",
    "        else:\n",
    "            scores.append(0)\n",
    "    return np.mean(scores)\n"
   ]
  },
  {
   "cell_type": "code",
   "execution_count": 17,
   "metadata": {},
   "outputs": [],
   "source": [
    "#LLM = 'mistral-20240118'\n",
    "\n",
    "llms = ['llama2-20231209', 'mistral-20240118']\n",
    "SPLIT = 'test'\n",
    "\n",
    "results_dict = {}\n",
    "\n",
    "MODELS_COL = 'model'\n",
    "FLIPRATE_COL = 'cfs fliprate'\n",
    "CFS_PPL_COL = 'cfs ppl'\n",
    "ORIG_PPL_COL = 'orig ppl'\n",
    "COUNT = '#instances'\n",
    "\n",
    "for llm in llms: \n",
    "    df = pd.read_csv('../llms-ppl-preds/{}/sentiment/combined/{}.tsv'.format(llm, SPLIT), sep= '\\t')\n",
    "    #df['Predicted_sentiment'] = df['Predicted_sentiment'].map(lambda x: 'Positive' if str(x) == '1' else 'Negative')\n",
    "    len_orig = len(pd.read_csv('../llms-ppl-preds/{}/sentiment/orig/{}.tsv'.format(llm, SPLIT), sep= '\\t'))\n",
    "    len_new = len(pd.read_csv('../llms-ppl-preds/{}/sentiment/new/{}.tsv'.format(llm, SPLIT), sep= '\\t'))\n",
    "\n",
    "    df_orig = df.iloc[:len_orig,:].reset_index()\n",
    "    df_new = df.iloc[len_orig:,:].reset_index()\n",
    "\n",
    "    assert(len(df_orig) == len_orig) \n",
    "    assert(len(df_new) == len_new) \n",
    "    df_orig.head()\n",
    "\n",
    "    # LLM\n",
    "    models = results_dict.get(MODELS_COL, [])\n",
    "    models.append(llm.split('-')[0])\n",
    "    results_dict[MODELS_COL] = models\n",
    "    # CFs Fliprate\n",
    "    cf_fliprate = compute_fliprate(df_new)\n",
    "    cf_frates = results_dict.get(FLIPRATE_COL, [])\n",
    "    cf_frates.append(cf_fliprate)\n",
    "    results_dict[FLIPRATE_COL] = cf_frates\n",
    "\n",
    "    # CFs PPL\n",
    "    cf_ppl = df_new['perplexity'].mean()\n",
    "    cf_ppls = results_dict.get(CFS_PPL_COL, [])\n",
    "    cf_ppls.append(cf_ppl)\n",
    "    results_dict[CFS_PPL_COL] = cf_ppls\n",
    "\n",
    "    # ORIG PPL\n",
    "    orig_ppl = df_orig['perplexity'].mean()\n",
    "    orig_ppls = results_dict.get(ORIG_PPL_COL, [])\n",
    "    orig_ppls.append(orig_ppl)\n",
    "    results_dict[ORIG_PPL_COL] = orig_ppls\n",
    "\n",
    "    # COUNT\n",
    "    counts = results_dict.get(COUNT, [])\n",
    "    counts.append(df_new['perplexity'].count())\n",
    "    results_dict[COUNT] = counts"
   ]
  },
  {
   "cell_type": "code",
   "execution_count": 18,
   "metadata": {},
   "outputs": [
    {
     "data": {
      "text/html": [
       "<div>\n",
       "<style scoped>\n",
       "    .dataframe tbody tr th:only-of-type {\n",
       "        vertical-align: middle;\n",
       "    }\n",
       "\n",
       "    .dataframe tbody tr th {\n",
       "        vertical-align: top;\n",
       "    }\n",
       "\n",
       "    .dataframe thead th {\n",
       "        text-align: right;\n",
       "    }\n",
       "</style>\n",
       "<table border=\"1\" class=\"dataframe\">\n",
       "  <thead>\n",
       "    <tr style=\"text-align: right;\">\n",
       "      <th></th>\n",
       "      <th>model</th>\n",
       "      <th>cfs fliprate</th>\n",
       "      <th>cfs ppl</th>\n",
       "      <th>orig ppl</th>\n",
       "      <th>#instances</th>\n",
       "    </tr>\n",
       "  </thead>\n",
       "  <tbody>\n",
       "    <tr>\n",
       "      <th>0</th>\n",
       "      <td>llama2</td>\n",
       "      <td>79.92</td>\n",
       "      <td>46.99</td>\n",
       "      <td>43.69</td>\n",
       "      <td>483</td>\n",
       "    </tr>\n",
       "    <tr>\n",
       "      <th>1</th>\n",
       "      <td>mistral</td>\n",
       "      <td>94.16</td>\n",
       "      <td>48.54</td>\n",
       "      <td>43.97</td>\n",
       "      <td>411</td>\n",
       "    </tr>\n",
       "  </tbody>\n",
       "</table>\n",
       "</div>"
      ],
      "text/plain": [
       "     model  cfs fliprate  cfs ppl  orig ppl  #instances\n",
       "0   llama2         79.92    46.99     43.69         483\n",
       "1  mistral         94.16    48.54     43.97         411"
      ]
     },
     "execution_count": 18,
     "metadata": {},
     "output_type": "execute_result"
    }
   ],
   "source": [
    "df_results = pd.DataFrame.from_dict(results_dict)\n",
    "df_results['cfs fliprate'] = df_results['cfs fliprate']*100\n",
    "df_results = df_results.round(2)\n",
    "df_results.head()"
   ]
  },
  {
   "cell_type": "code",
   "execution_count": null,
   "metadata": {},
   "outputs": [],
   "source": [
    "#SPLIT = 'train'\n",
    "#df = pd.read_csv('../llms-ppl-preds/{}/sentiment/combined/{}.tsv'.format(LLM, SPLIT), sep= '\\t')\n",
    "#df['Predicted_sentiment'] = df['Predicted_sentiment'].map(lambda x: 'Positive' if str(x) == '1' else 'Negative')\n",
    "#df.to_csv('../llms-ppl-preds/{}/sentiment/combined/{}.tsv'.format(LLM, SPLIT), sep= '\\t', index= False)"
   ]
  }
 ],
 "metadata": {
  "kernelspec": {
   "display_name": "cfg",
   "language": "python",
   "name": "python3"
  },
  "language_info": {
   "codemirror_mode": {
    "name": "ipython",
    "version": 3
   },
   "file_extension": ".py",
   "mimetype": "text/x-python",
   "name": "python",
   "nbconvert_exporter": "python",
   "pygments_lexer": "ipython3",
   "version": "3.9.12"
  }
 },
 "nbformat": 4,
 "nbformat_minor": 2
}
