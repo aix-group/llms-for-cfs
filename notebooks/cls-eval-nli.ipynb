{
 "cells": [
  {
   "cell_type": "code",
   "execution_count": 70,
   "metadata": {},
   "outputs": [
    {
     "data": {
      "text/plain": [
       "['../cls-eval/NLI/crowd/revised_hypothesis/2_test_llm_eval_classifier (2).csv',\n",
       " '../cls-eval/NLI/crowd/revised_premise/1_test_llm_eval_classifier (1).csv']"
      ]
     },
     "execution_count": 70,
     "metadata": {},
     "output_type": "execute_result"
    }
   ],
   "source": [
    "from pathlib import Path\n",
    "import pandas as pd\n",
    "from sklearn.metrics import accuracy_score as accuracy\n",
    "files = list(Path(\"../cls-eval/NLI/\").rglob(\"*.csv\"))\n",
    "files = [str(x) for x in files]\n",
    "files"
   ]
  },
  {
   "cell_type": "code",
   "execution_count": 71,
   "metadata": {},
   "outputs": [
    {
     "data": {
      "text/html": [
       "<div>\n",
       "<style scoped>\n",
       "    .dataframe tbody tr th:only-of-type {\n",
       "        vertical-align: middle;\n",
       "    }\n",
       "\n",
       "    .dataframe tbody tr th {\n",
       "        vertical-align: top;\n",
       "    }\n",
       "\n",
       "    .dataframe thead th {\n",
       "        text-align: right;\n",
       "    }\n",
       "</style>\n",
       "<table border=\"1\" class=\"dataframe\">\n",
       "  <thead>\n",
       "    <tr style=\"text-align: right;\">\n",
       "      <th></th>\n",
       "      <th>Unnamed: 0</th>\n",
       "      <th>original_sentence1</th>\n",
       "      <th>original_sentence2</th>\n",
       "      <th>original label</th>\n",
       "      <th>contrast label</th>\n",
       "      <th>contrast text</th>\n",
       "      <th>label</th>\n",
       "    </tr>\n",
       "  </thead>\n",
       "  <tbody>\n",
       "    <tr>\n",
       "      <th>0</th>\n",
       "      <td>0</td>\n",
       "      <td>A man with a beard is talking on the cellphone...</td>\n",
       "      <td>A man is prone on the street while another man...</td>\n",
       "      <td>entailment</td>\n",
       "      <td>contradiction</td>\n",
       "      <td>A man with a beard is talking on the cellphone...</td>\n",
       "      <td>2.0</td>\n",
       "    </tr>\n",
       "    <tr>\n",
       "      <th>1</th>\n",
       "      <td>1</td>\n",
       "      <td>A man with a beard is talking on the cellphone...</td>\n",
       "      <td>A man is prone on the street while another man...</td>\n",
       "      <td>entailment</td>\n",
       "      <td>neutral</td>\n",
       "      <td>A man with a beard is talking on the cellphone...</td>\n",
       "      <td>2.0</td>\n",
       "    </tr>\n",
       "    <tr>\n",
       "      <th>2</th>\n",
       "      <td>2</td>\n",
       "      <td>A kid slides down a yellow slide into a swimmi...</td>\n",
       "      <td>The child slides into the pool.</td>\n",
       "      <td>entailment</td>\n",
       "      <td>contradiction</td>\n",
       "      <td>A kid slides down a yellow slide onto the ground.</td>\n",
       "      <td>2.0</td>\n",
       "    </tr>\n",
       "    <tr>\n",
       "      <th>3</th>\n",
       "      <td>3</td>\n",
       "      <td>A kid slides down a yellow slide into a swimmi...</td>\n",
       "      <td>The child slides into the pool.</td>\n",
       "      <td>entailment</td>\n",
       "      <td>neutral</td>\n",
       "      <td>A kid slides down a yellow slide.</td>\n",
       "      <td>2.0</td>\n",
       "    </tr>\n",
       "    <tr>\n",
       "      <th>4</th>\n",
       "      <td>4</td>\n",
       "      <td>A woman talks on a cellphone while sitting in ...</td>\n",
       "      <td>She has a conversation on her phone outdoors</td>\n",
       "      <td>entailment</td>\n",
       "      <td>contradiction</td>\n",
       "      <td>A woman talks on a cellphone while sitting in ...</td>\n",
       "      <td>1.0</td>\n",
       "    </tr>\n",
       "    <tr>\n",
       "      <th>...</th>\n",
       "      <td>...</td>\n",
       "      <td>...</td>\n",
       "      <td>...</td>\n",
       "      <td>...</td>\n",
       "      <td>...</td>\n",
       "      <td>...</td>\n",
       "      <td>...</td>\n",
       "    </tr>\n",
       "    <tr>\n",
       "      <th>795</th>\n",
       "      <td>795</td>\n",
       "      <td>A man wearing black pants, an orange and brown...</td>\n",
       "      <td>The bandana is expensive.</td>\n",
       "      <td>contradiction</td>\n",
       "      <td>entailment</td>\n",
       "      <td>A man wearing black pants, an orange and brown...</td>\n",
       "      <td>1.0</td>\n",
       "    </tr>\n",
       "    <tr>\n",
       "      <th>796</th>\n",
       "      <td>796</td>\n",
       "      <td>At least eight people are sitting at a table i...</td>\n",
       "      <td>People sitting on the floor</td>\n",
       "      <td>contradiction</td>\n",
       "      <td>neutral</td>\n",
       "      <td>At least eight tall people are sitting at a ta...</td>\n",
       "      <td>2.0</td>\n",
       "    </tr>\n",
       "    <tr>\n",
       "      <th>797</th>\n",
       "      <td>797</td>\n",
       "      <td>At least eight people are sitting at a table i...</td>\n",
       "      <td>People sitting on the floor</td>\n",
       "      <td>contradiction</td>\n",
       "      <td>entailment</td>\n",
       "      <td>At least eight people are sitting at a table i...</td>\n",
       "      <td>2.0</td>\n",
       "    </tr>\n",
       "    <tr>\n",
       "      <th>798</th>\n",
       "      <td>798</td>\n",
       "      <td>A photographer and assistant take a photo of a...</td>\n",
       "      <td>The photographer is taking a photo of a dog.</td>\n",
       "      <td>contradiction</td>\n",
       "      <td>entailment</td>\n",
       "      <td>A photographer and assistant take a photo of t...</td>\n",
       "      <td>2.0</td>\n",
       "    </tr>\n",
       "    <tr>\n",
       "      <th>799</th>\n",
       "      <td>799</td>\n",
       "      <td>A photographer and assistant take a photo of a...</td>\n",
       "      <td>The photographer is taking a photo of a dog.</td>\n",
       "      <td>contradiction</td>\n",
       "      <td>neutral</td>\n",
       "      <td>A photographer and assistant take a photo of a...</td>\n",
       "      <td>2.0</td>\n",
       "    </tr>\n",
       "  </tbody>\n",
       "</table>\n",
       "<p>800 rows × 7 columns</p>\n",
       "</div>"
      ],
      "text/plain": [
       "     Unnamed: 0                                 original_sentence1  \\\n",
       "0             0  A man with a beard is talking on the cellphone...   \n",
       "1             1  A man with a beard is talking on the cellphone...   \n",
       "2             2  A kid slides down a yellow slide into a swimmi...   \n",
       "3             3  A kid slides down a yellow slide into a swimmi...   \n",
       "4             4  A woman talks on a cellphone while sitting in ...   \n",
       "..          ...                                                ...   \n",
       "795         795  A man wearing black pants, an orange and brown...   \n",
       "796         796  At least eight people are sitting at a table i...   \n",
       "797         797  At least eight people are sitting at a table i...   \n",
       "798         798  A photographer and assistant take a photo of a...   \n",
       "799         799  A photographer and assistant take a photo of a...   \n",
       "\n",
       "                                    original_sentence2 original label  \\\n",
       "0    A man is prone on the street while another man...     entailment   \n",
       "1    A man is prone on the street while another man...     entailment   \n",
       "2                      The child slides into the pool.     entailment   \n",
       "3                      The child slides into the pool.     entailment   \n",
       "4         She has a conversation on her phone outdoors     entailment   \n",
       "..                                                 ...            ...   \n",
       "795                          The bandana is expensive.  contradiction   \n",
       "796                        People sitting on the floor  contradiction   \n",
       "797                        People sitting on the floor  contradiction   \n",
       "798       The photographer is taking a photo of a dog.  contradiction   \n",
       "799       The photographer is taking a photo of a dog.  contradiction   \n",
       "\n",
       "    contrast label                                      contrast text  label  \n",
       "0    contradiction  A man with a beard is talking on the cellphone...    2.0  \n",
       "1          neutral  A man with a beard is talking on the cellphone...    2.0  \n",
       "2    contradiction  A kid slides down a yellow slide onto the ground.    2.0  \n",
       "3          neutral                  A kid slides down a yellow slide.    2.0  \n",
       "4    contradiction  A woman talks on a cellphone while sitting in ...    1.0  \n",
       "..             ...                                                ...    ...  \n",
       "795     entailment  A man wearing black pants, an orange and brown...    1.0  \n",
       "796        neutral  At least eight tall people are sitting at a ta...    2.0  \n",
       "797     entailment  At least eight people are sitting at a table i...    2.0  \n",
       "798     entailment  A photographer and assistant take a photo of t...    2.0  \n",
       "799        neutral  A photographer and assistant take a photo of a...    2.0  \n",
       "\n",
       "[800 rows x 7 columns]"
      ]
     },
     "execution_count": 71,
     "metadata": {},
     "output_type": "execute_result"
    }
   ],
   "source": [
    "pd.read_csv(files[-1])"
   ]
  },
  {
   "cell_type": "code",
   "execution_count": 72,
   "metadata": {},
   "outputs": [],
   "source": [
    "def map_label(x):\n",
    "    # 1 - Entailment, 2 - Contradiction, 3 - Neutral\n",
    "    #print(x)\n",
    "    if x == 1:\n",
    "        return 'entailment'\n",
    "    elif x == 2:\n",
    "        return 'contradiction'\n",
    "    elif x == 3:\n",
    "        return 'netural'\n",
    "    else:\n",
    "        raise ValueError\n",
    "\n",
    "\n",
    "def get_result(files): \n",
    "\n",
    "    dict = {\n",
    "        'LLM' : [], \n",
    "        'part': [], \n",
    "        'acc' : [], \n",
    "    }\n",
    "\n",
    "\n",
    "    for f in files:\n",
    "        llm_name = f.split('/')[-3]\n",
    "        part =  f.split('/')[-2]\n",
    "\n",
    "    \n",
    "        dict['LLM'].append(llm_name)\n",
    "        dict['part'].append(part)\n",
    "\n",
    "\n",
    "        df = pd.read_csv(f)\n",
    "        df = df.dropna()\n",
    "        df['decoded label'] = df.apply(lambda x: map_label(x['label']), axis=1)\n",
    "\n",
    "        dict['acc'].append(accuracy(df['contrast label'], df['decoded label'])*100)\n",
    "\n",
    "    df_results = pd.DataFrame.from_dict(dict).round(2)\n",
    "    return df_results.sort_values(by=['part', 'LLM'])"
   ]
  },
  {
   "cell_type": "code",
   "execution_count": 73,
   "metadata": {},
   "outputs": [
    {
     "data": {
      "text/plain": [
       "Index(['LLM', 'part', 'acc'], dtype='object')"
      ]
     },
     "execution_count": 73,
     "metadata": {},
     "output_type": "execute_result"
    }
   ],
   "source": [
    "mean_results = get_result(files)\n",
    "mean_results.columns"
   ]
  },
  {
   "cell_type": "code",
   "execution_count": 74,
   "metadata": {},
   "outputs": [
    {
     "data": {
      "text/html": [
       "<div>\n",
       "<style scoped>\n",
       "    .dataframe tbody tr th:only-of-type {\n",
       "        vertical-align: middle;\n",
       "    }\n",
       "\n",
       "    .dataframe tbody tr th {\n",
       "        vertical-align: top;\n",
       "    }\n",
       "\n",
       "    .dataframe thead th {\n",
       "        text-align: right;\n",
       "    }\n",
       "</style>\n",
       "<table border=\"1\" class=\"dataframe\">\n",
       "  <thead>\n",
       "    <tr style=\"text-align: right;\">\n",
       "      <th></th>\n",
       "      <th>LLM</th>\n",
       "      <th>part</th>\n",
       "      <th>acc</th>\n",
       "    </tr>\n",
       "  </thead>\n",
       "  <tbody>\n",
       "    <tr>\n",
       "      <th>0</th>\n",
       "      <td>crowd</td>\n",
       "      <td>revised_hypothesis</td>\n",
       "      <td>58.32</td>\n",
       "    </tr>\n",
       "    <tr>\n",
       "      <th>1</th>\n",
       "      <td>crowd</td>\n",
       "      <td>revised_premise</td>\n",
       "      <td>50.88</td>\n",
       "    </tr>\n",
       "  </tbody>\n",
       "</table>\n",
       "</div>"
      ],
      "text/plain": [
       "     LLM                part    acc\n",
       "0  crowd  revised_hypothesis  58.32\n",
       "1  crowd     revised_premise  50.88"
      ]
     },
     "execution_count": 74,
     "metadata": {},
     "output_type": "execute_result"
    }
   ],
   "source": [
    "mean_results"
   ]
  },
  {
   "cell_type": "code",
   "execution_count": 75,
   "metadata": {},
   "outputs": [
    {
     "name": "stdout",
     "output_type": "stream",
     "text": [
      "\\begin{tabular}{llr}\n",
      "\\toprule\n",
      "  LLM &               part &   acc \\\\\n",
      "\\midrule\n",
      "crowd & revised\\_hypothesis & 58.32 \\\\\n",
      "crowd &    revised\\_premise & 50.88 \\\\\n",
      "\\bottomrule\n",
      "\\end{tabular}\n",
      "\n"
     ]
    },
    {
     "name": "stderr",
     "output_type": "stream",
     "text": [
      "/tmp/ipykernel_2722802/466383237.py:2: FutureWarning: In future versions `DataFrame.to_latex` is expected to utilise the base implementation of `Styler.to_latex` for formatting and rendering. The arguments signature may therefore change. It is recommended instead to use `DataFrame.style.to_latex` which also contains additional functionality.\n",
      "  print(table.to_latex(index=False))\n"
     ]
    }
   ],
   "source": [
    "table = mean_results[['LLM', 'part', 'acc']]\n",
    "print(table.to_latex(index=False))"
   ]
  }
 ],
 "metadata": {
  "kernelspec": {
   "display_name": "cfg",
   "language": "python",
   "name": "python3"
  },
  "language_info": {
   "codemirror_mode": {
    "name": "ipython",
    "version": 3
   },
   "file_extension": ".py",
   "mimetype": "text/x-python",
   "name": "python",
   "nbconvert_exporter": "python",
   "pygments_lexer": "ipython3",
   "version": "3.9.12"
  }
 },
 "nbformat": 4,
 "nbformat_minor": 2
}
