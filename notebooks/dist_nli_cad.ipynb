{
 "cells": [
  {
   "cell_type": "code",
   "execution_count": 78,
   "metadata": {},
   "outputs": [],
   "source": [
    "import pandas as pd\n",
    "import os\n",
    "import random \n",
    "from difflib import Differ\n",
    "import nltk\n",
    "from spacy.lang.en import English\n",
    "import numpy as np\n",
    "\n",
    "\n",
    "random.seed(42)\n",
    "\n",
    "LST = ['crowd', 'expert', 'LLM']\n",
    "\n",
    "def score_minimality(orig_sent: str, edited_sent: str, normalized: bool = True) -> float:\n",
    "        \"\"\"\n",
    "          Calculate Levenshtein distance(token-level) indicating the minimality of changes between two sentences.\n",
    "          This method takes in an original sentence and an edited sentence, both as strings.\n",
    "          It calculates the Levenshtein edit distance between the tokenized versions of these sentences,\n",
    "          representing the minimum number of single-token edits needed to transform one into the other.\n",
    "          Parameters:\n",
    "          - orig_sent (str): The original sentence before editing.\n",
    "          - edited_sent (str): The edited version of the sentence.\n",
    "          - normalized (bool, optional): If True, returns a normalized score relative to the length of\n",
    "            the original sentence. If False, returns the raw edit distance value.\n",
    "          Returns:\n",
    "          - float: The calculated minimality score. If ‘normalized’ is True, the score represents the\n",
    "            proportion of changes relative to the original sentence length.u\n",
    "            Source:\n",
    "          \"\"\"\n",
    "        nlp = English()\n",
    "        tokenizer = nlp.tokenizer\n",
    "        tokenized_original = [t.text for t in tokenizer(orig_sent)]\n",
    "        tokenized_edited = [t.text for t in tokenizer(edited_sent)]\n",
    "        levenshtein_dist = nltk.edit_distance(tokenized_original, tokenized_edited)\n",
    "        if normalized:\n",
    "            return levenshtein_dist / len(tokenized_original)\n",
    "        else:\n",
    "            return levenshtein_dist\n",
    "\n",
    "\n",
    "def compute_dist(s1, s2):\n",
    "    #assert((df[SENT_COLUMN] != df[CF_SENT_COLUMN]).all())\n",
    "    assert len(s1) == len(s2)\n",
    "    dist = []\n",
    "\n",
    "    for x, y in zip(s1,s2):\n",
    "            dist.append(score_minimality(x, y))\n",
    "    return dist"
   ]
  },
  {
   "cell_type": "code",
   "execution_count": 79,
   "metadata": {},
   "outputs": [
    {
     "data": {
      "text/html": [
       "<div>\n",
       "<style scoped>\n",
       "    .dataframe tbody tr th:only-of-type {\n",
       "        vertical-align: middle;\n",
       "    }\n",
       "\n",
       "    .dataframe tbody tr th {\n",
       "        vertical-align: top;\n",
       "    }\n",
       "\n",
       "    .dataframe thead th {\n",
       "        text-align: right;\n",
       "    }\n",
       "</style>\n",
       "<table border=\"1\" class=\"dataframe\">\n",
       "  <thead>\n",
       "    <tr style=\"text-align: right;\">\n",
       "      <th></th>\n",
       "      <th>sentence1</th>\n",
       "      <th>sentence2</th>\n",
       "      <th>gold_label</th>\n",
       "    </tr>\n",
       "  </thead>\n",
       "  <tbody>\n",
       "    <tr>\n",
       "      <th>0</th>\n",
       "      <td>A man with a beard is talking on the cellphone...</td>\n",
       "      <td>A man is prone on the street while another man...</td>\n",
       "      <td>entailment</td>\n",
       "    </tr>\n",
       "    <tr>\n",
       "      <th>1</th>\n",
       "      <td>A kid slides down a yellow slide into a swimmi...</td>\n",
       "      <td>The child slides into the pool.</td>\n",
       "      <td>entailment</td>\n",
       "    </tr>\n",
       "    <tr>\n",
       "      <th>2</th>\n",
       "      <td>A woman talks on a cellphone while sitting in ...</td>\n",
       "      <td>She has a conversation on her phone outdoors</td>\n",
       "      <td>entailment</td>\n",
       "    </tr>\n",
       "    <tr>\n",
       "      <th>3</th>\n",
       "      <td>A lady, dressed in a costume, is posing with a...</td>\n",
       "      <td>A lady with an axe is posing in the middle of ...</td>\n",
       "      <td>entailment</td>\n",
       "    </tr>\n",
       "    <tr>\n",
       "      <th>4</th>\n",
       "      <td>A man in a boom lift bucket welds.</td>\n",
       "      <td>A man is working.</td>\n",
       "      <td>entailment</td>\n",
       "    </tr>\n",
       "  </tbody>\n",
       "</table>\n",
       "</div>"
      ],
      "text/plain": [
       "                                           sentence1  \\\n",
       "0  A man with a beard is talking on the cellphone...   \n",
       "1  A kid slides down a yellow slide into a swimmi...   \n",
       "2  A woman talks on a cellphone while sitting in ...   \n",
       "3  A lady, dressed in a costume, is posing with a...   \n",
       "4                 A man in a boom lift bucket welds.   \n",
       "\n",
       "                                           sentence2  gold_label  \n",
       "0  A man is prone on the street while another man...  entailment  \n",
       "1                    The child slides into the pool.  entailment  \n",
       "2       She has a conversation on her phone outdoors  entailment  \n",
       "3  A lady with an axe is posing in the middle of ...  entailment  \n",
       "4                                  A man is working.  entailment  "
      ]
     },
     "execution_count": 79,
     "metadata": {},
     "output_type": "execute_result"
    }
   ],
   "source": [
    "orig = pd.read_csv('../counterfactually-augmented-data/NLI/original/test.tsv', sep = '\\t')\n",
    "orig.head()"
   ]
  },
  {
   "cell_type": "code",
   "execution_count": 80,
   "metadata": {},
   "outputs": [],
   "source": [
    "# for premise\n",
    "orig_sent1_double = []\n",
    "# for hypothesis\n",
    "orig_sent2_double = []\n",
    "\n",
    "for x in orig['sentence1'].values:\n",
    "    orig_sent1_double.append(x)\n",
    "    orig_sent1_double.append(x)\n",
    "# for hypothesis\n",
    "for y in orig['sentence2'].values:\n",
    "    orig_sent2_double.append(y)\n",
    "    orig_sent2_double.append(y)"
   ]
  },
  {
   "cell_type": "code",
   "execution_count": 97,
   "metadata": {},
   "outputs": [
    {
     "data": {
      "text/html": [
       "<div>\n",
       "<style scoped>\n",
       "    .dataframe tbody tr th:only-of-type {\n",
       "        vertical-align: middle;\n",
       "    }\n",
       "\n",
       "    .dataframe tbody tr th {\n",
       "        vertical-align: top;\n",
       "    }\n",
       "\n",
       "    .dataframe thead th {\n",
       "        text-align: right;\n",
       "    }\n",
       "</style>\n",
       "<table border=\"1\" class=\"dataframe\">\n",
       "  <thead>\n",
       "    <tr style=\"text-align: right;\">\n",
       "      <th></th>\n",
       "      <th>sentence1</th>\n",
       "      <th>sentence2</th>\n",
       "      <th>gold_label</th>\n",
       "      <th>predicted_label</th>\n",
       "      <th>ppl</th>\n",
       "      <th>dist</th>\n",
       "    </tr>\n",
       "  </thead>\n",
       "  <tbody>\n",
       "    <tr>\n",
       "      <th>0</th>\n",
       "      <td>A man with a beard is talking on the cellphone...</td>\n",
       "      <td>A man is prone on the street while another man...</td>\n",
       "      <td>contradiction</td>\n",
       "      <td>contradiction</td>\n",
       "      <td>18.422153</td>\n",
       "      <td>0.052632</td>\n",
       "    </tr>\n",
       "    <tr>\n",
       "      <th>1</th>\n",
       "      <td>A man with a beard is talking on the cellphone...</td>\n",
       "      <td>A man is prone on the street while another man...</td>\n",
       "      <td>neutral</td>\n",
       "      <td>contradiction</td>\n",
       "      <td>19.552139</td>\n",
       "      <td>0.052632</td>\n",
       "    </tr>\n",
       "    <tr>\n",
       "      <th>2</th>\n",
       "      <td>A kid slides down a yellow slide onto the ground.</td>\n",
       "      <td>The child slides into the pool.</td>\n",
       "      <td>contradiction</td>\n",
       "      <td>contradiction</td>\n",
       "      <td>38.833290</td>\n",
       "      <td>0.210526</td>\n",
       "    </tr>\n",
       "    <tr>\n",
       "      <th>3</th>\n",
       "      <td>A kid slides down a yellow slide.</td>\n",
       "      <td>The child slides into the pool.</td>\n",
       "      <td>neutral</td>\n",
       "      <td>neutral</td>\n",
       "      <td>52.063065</td>\n",
       "      <td>0.210526</td>\n",
       "    </tr>\n",
       "    <tr>\n",
       "      <th>4</th>\n",
       "      <td>A woman talks on a cellphone while sitting in ...</td>\n",
       "      <td>She has a conversation on her phone outdoors</td>\n",
       "      <td>contradiction</td>\n",
       "      <td>entailment</td>\n",
       "      <td>38.821644</td>\n",
       "      <td>0.172414</td>\n",
       "    </tr>\n",
       "  </tbody>\n",
       "</table>\n",
       "</div>"
      ],
      "text/plain": [
       "                                           sentence1  \\\n",
       "0  A man with a beard is talking on the cellphone...   \n",
       "1  A man with a beard is talking on the cellphone...   \n",
       "2  A kid slides down a yellow slide onto the ground.   \n",
       "3                  A kid slides down a yellow slide.   \n",
       "4  A woman talks on a cellphone while sitting in ...   \n",
       "\n",
       "                                           sentence2     gold_label  \\\n",
       "0  A man is prone on the street while another man...  contradiction   \n",
       "1  A man is prone on the street while another man...        neutral   \n",
       "2                    The child slides into the pool.  contradiction   \n",
       "3                    The child slides into the pool.        neutral   \n",
       "4       She has a conversation on her phone outdoors  contradiction   \n",
       "\n",
       "  predicted_label        ppl      dist  \n",
       "0   contradiction  18.422153  0.052632  \n",
       "1   contradiction  19.552139  0.052632  \n",
       "2   contradiction  38.833290  0.210526  \n",
       "3         neutral  52.063065  0.210526  \n",
       "4      entailment  38.821644  0.172414  "
      ]
     },
     "execution_count": 97,
     "metadata": {},
     "output_type": "execute_result"
    }
   ],
   "source": [
    "premise_path = '../llms-ppl-preds/counterfactually-augmented-data/NLI/revised_premise/test.tsv'\n",
    "#premise_path = '../counterfactually-augmented-data/NLI/revised_premise/test.tsv'\n",
    "\n",
    "premise = pd.read_csv(premise_path, sep = '\\t')\n",
    "\n",
    "\n",
    "premise_orig = [x + ' ' + y for x, y in zip(orig_sent1_double, premise['sentence2'].values)]\n",
    "premise_cfs = [x + ' ' + y for x, y in zip(premise['sentence1'].values, premise['sentence2'].values)]\n",
    "\n",
    "premise['dist'] = compute_dist(premise_orig, premise_cfs)\n",
    "\n",
    "premise.head()"
   ]
  },
  {
   "cell_type": "code",
   "execution_count": 98,
   "metadata": {},
   "outputs": [
    {
     "data": {
      "text/html": [
       "<div>\n",
       "<style scoped>\n",
       "    .dataframe tbody tr th:only-of-type {\n",
       "        vertical-align: middle;\n",
       "    }\n",
       "\n",
       "    .dataframe tbody tr th {\n",
       "        vertical-align: top;\n",
       "    }\n",
       "\n",
       "    .dataframe thead th {\n",
       "        text-align: right;\n",
       "    }\n",
       "</style>\n",
       "<table border=\"1\" class=\"dataframe\">\n",
       "  <thead>\n",
       "    <tr style=\"text-align: right;\">\n",
       "      <th></th>\n",
       "      <th>sentence1</th>\n",
       "      <th>sentence2</th>\n",
       "      <th>gold_label</th>\n",
       "      <th>predicted_label</th>\n",
       "      <th>ppl</th>\n",
       "      <th>dist</th>\n",
       "    </tr>\n",
       "  </thead>\n",
       "  <tbody>\n",
       "    <tr>\n",
       "      <th>0</th>\n",
       "      <td>A man with a beard is talking on the cellphone...</td>\n",
       "      <td>A man is talking to his wife on the cellphone.</td>\n",
       "      <td>neutral</td>\n",
       "      <td>neutral</td>\n",
       "      <td>17.876509</td>\n",
       "      <td>0.289474</td>\n",
       "    </tr>\n",
       "    <tr>\n",
       "      <th>1</th>\n",
       "      <td>A man with a beard is talking on the cellphone...</td>\n",
       "      <td>A man is alone on the street.</td>\n",
       "      <td>contradiction</td>\n",
       "      <td>contradiction</td>\n",
       "      <td>20.810490</td>\n",
       "      <td>0.210526</td>\n",
       "    </tr>\n",
       "    <tr>\n",
       "      <th>2</th>\n",
       "      <td>A kid slides down a yellow slide into a swimmi...</td>\n",
       "      <td>The child slides into the heated pool.</td>\n",
       "      <td>neutral</td>\n",
       "      <td>neutral</td>\n",
       "      <td>39.567387</td>\n",
       "      <td>0.052632</td>\n",
       "    </tr>\n",
       "    <tr>\n",
       "      <th>3</th>\n",
       "      <td>A kid slides down a yellow slide into a swimmi...</td>\n",
       "      <td>The man slides into the pool.</td>\n",
       "      <td>contradiction</td>\n",
       "      <td>contradiction</td>\n",
       "      <td>32.129520</td>\n",
       "      <td>0.052632</td>\n",
       "    </tr>\n",
       "    <tr>\n",
       "      <th>4</th>\n",
       "      <td>A woman talks on a cellphone while sitting in ...</td>\n",
       "      <td>He has a conversation on her phone outdoors</td>\n",
       "      <td>contradiction</td>\n",
       "      <td>entailment</td>\n",
       "      <td>50.202255</td>\n",
       "      <td>0.034483</td>\n",
       "    </tr>\n",
       "  </tbody>\n",
       "</table>\n",
       "</div>"
      ],
      "text/plain": [
       "                                           sentence1  \\\n",
       "0  A man with a beard is talking on the cellphone...   \n",
       "1  A man with a beard is talking on the cellphone...   \n",
       "2  A kid slides down a yellow slide into a swimmi...   \n",
       "3  A kid slides down a yellow slide into a swimmi...   \n",
       "4  A woman talks on a cellphone while sitting in ...   \n",
       "\n",
       "                                        sentence2     gold_label  \\\n",
       "0  A man is talking to his wife on the cellphone.        neutral   \n",
       "1                   A man is alone on the street.  contradiction   \n",
       "2          The child slides into the heated pool.        neutral   \n",
       "3                   The man slides into the pool.  contradiction   \n",
       "4     He has a conversation on her phone outdoors  contradiction   \n",
       "\n",
       "  predicted_label        ppl      dist  \n",
       "0         neutral  17.876509  0.289474  \n",
       "1   contradiction  20.810490  0.210526  \n",
       "2         neutral  39.567387  0.052632  \n",
       "3   contradiction  32.129520  0.052632  \n",
       "4      entailment  50.202255  0.034483  "
      ]
     },
     "execution_count": 98,
     "metadata": {},
     "output_type": "execute_result"
    }
   ],
   "source": [
    "hypothesis_path = '../llms-ppl-preds/counterfactually-augmented-data/NLI/revised_hypothesis/test.tsv'\n",
    "\n",
    "hypothesis = pd.read_csv(hypothesis_path, sep = '\\t')\n",
    "\n",
    "#assert len(hypothesis['sentence1'].unique()) == len(hypothesis)//2\n",
    "hypothesis_orig = [x + ' ' + y for x, y in zip(hypothesis['sentence1'].values, orig_sent2_double)]\n",
    "\n",
    "hypothesis_cfs = [x + ' ' + y for x, y in zip(hypothesis['sentence1'].values, hypothesis['sentence2'].values)]\n",
    "\n",
    "hypothesis['dist'] = compute_dist(hypothesis_orig, hypothesis_cfs)\n",
    "\n",
    "hypothesis.head()"
   ]
  },
  {
   "cell_type": "code",
   "execution_count": 99,
   "metadata": {},
   "outputs": [
    {
     "data": {
      "text/plain": [
       "['A man with a beard is talking on the cellphone and standing next to someone who is lying down on the street. A man is prone on the street while another man stands next to him.',\n",
       " 'A man with a beard is talking on the cellphone and standing next to someone who is lying down on the street. A man is prone on the street while another man stands next to him.',\n",
       " 'A kid slides down a yellow slide into a swimming pool. The child slides into the pool.',\n",
       " 'A kid slides down a yellow slide into a swimming pool. The child slides into the pool.']"
      ]
     },
     "execution_count": 99,
     "metadata": {},
     "output_type": "execute_result"
    }
   ],
   "source": [
    "premise_orig[:4]"
   ]
  },
  {
   "cell_type": "code",
   "execution_count": 100,
   "metadata": {},
   "outputs": [
    {
     "data": {
      "text/plain": [
       "['A man with a beard is talking on the cellphone and standing next to someone who is sitting on the street. A man is prone on the street while another man stands next to him.',\n",
       " 'A man with a beard is talking on the cellphone and standing next to someone who is on the street. A man is prone on the street while another man stands next to him.',\n",
       " 'A kid slides down a yellow slide onto the ground. The child slides into the pool.',\n",
       " 'A kid slides down a yellow slide. The child slides into the pool.']"
      ]
     },
     "execution_count": 100,
     "metadata": {},
     "output_type": "execute_result"
    }
   ],
   "source": [
    "premise_cfs[:4]"
   ]
  },
  {
   "cell_type": "code",
   "execution_count": 101,
   "metadata": {},
   "outputs": [
    {
     "data": {
      "text/plain": [
       "['A man with a beard is talking on the cellphone and standing next to someone who is sitting on the street. A man is prone on the street while another man stands next to him.',\n",
       " 'A man with a beard is talking on the cellphone and standing next to someone who is on the street. A man is prone on the street while another man stands next to him.',\n",
       " 'A kid slides down a yellow slide onto the ground. The child slides into the pool.',\n",
       " 'A kid slides down a yellow slide. The child slides into the pool.']"
      ]
     },
     "execution_count": 101,
     "metadata": {},
     "output_type": "execute_result"
    }
   ],
   "source": [
    "premise_cfs[:4]"
   ]
  },
  {
   "cell_type": "code",
   "execution_count": 102,
   "metadata": {},
   "outputs": [
    {
     "data": {
      "text/plain": [
       "['A man with a beard is talking on the cellphone and standing next to someone who is lying down on the street. A man is prone on the street while another man stands next to him.',\n",
       " 'A man with a beard is talking on the cellphone and standing next to someone who is lying down on the street. A man is prone on the street while another man stands next to him.',\n",
       " 'A kid slides down a yellow slide into a swimming pool. The child slides into the pool.',\n",
       " 'A kid slides down a yellow slide into a swimming pool. The child slides into the pool.']"
      ]
     },
     "execution_count": 102,
     "metadata": {},
     "output_type": "execute_result"
    }
   ],
   "source": [
    "hypothesis_orig[:4]"
   ]
  },
  {
   "cell_type": "code",
   "execution_count": 103,
   "metadata": {},
   "outputs": [
    {
     "data": {
      "text/plain": [
       "['A man with a beard is talking on the cellphone and standing next to someone who is lying down on the street. A man is talking to his wife on the cellphone.',\n",
       " 'A man with a beard is talking on the cellphone and standing next to someone who is lying down on the street. A man is alone on the street.',\n",
       " 'A kid slides down a yellow slide into a swimming pool. The child slides into the heated pool.',\n",
       " 'A kid slides down a yellow slide into a swimming pool. The man slides into the pool.']"
      ]
     },
     "execution_count": 103,
     "metadata": {},
     "output_type": "execute_result"
    }
   ],
   "source": [
    "hypothesis_cfs[:4]"
   ]
  },
  {
   "cell_type": "code",
   "execution_count": 104,
   "metadata": {},
   "outputs": [],
   "source": [
    "premise.to_csv(premise_path, sep='\\t', index=False)\n",
    "hypothesis.to_csv(hypothesis_path, sep='\\t', index=False)"
   ]
  }
 ],
 "metadata": {
  "kernelspec": {
   "display_name": "cfg",
   "language": "python",
   "name": "python3"
  },
  "language_info": {
   "codemirror_mode": {
    "name": "ipython",
    "version": 3
   },
   "file_extension": ".py",
   "mimetype": "text/x-python",
   "name": "python",
   "nbconvert_exporter": "python",
   "pygments_lexer": "ipython3",
   "version": "3.9.12"
  }
 },
 "nbformat": 4,
 "nbformat_minor": 2
}
