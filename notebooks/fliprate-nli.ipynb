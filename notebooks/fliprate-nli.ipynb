{
 "cells": [
  {
   "cell_type": "code",
   "execution_count": 36,
   "metadata": {},
   "outputs": [],
   "source": [
    "import pandas as pd\n",
    "import numpy as np\n",
    "import os \n",
    "\n",
    "def compute_fliprate(df):\n",
    "    # Flip rate is the accuracy with respect to the target labels\n",
    "    # If the predicted sentiment is equal to the target we used to create the CF, then the label was flipped\n",
    "    scores = []\n",
    "    for i, row in df.iterrows():\n",
    "        if row['gold_label'] == row['predicted_label']:\n",
    "            scores.append(1)\n",
    "        else:\n",
    "            scores.append(0)\n",
    "    return np.mean(scores)\n",
    "\n",
    "\n",
    "import glob\n",
    "\n",
    "def get_test_sets(directory_path):\n",
    "    print(directory_path)\n",
    "    file_extension = \".tsv\"  # Replace with your desired file extension\n",
    "    pattern = os.path.join(directory_path, f\"**/*{file_extension}\")\n",
    "    # Use the glob function to find all files with the specified extension\n",
    "    matching_files = glob.glob(pattern, recursive=True)\n",
    "    res = []\n",
    "    for f in matching_files:\n",
    "        name = str(f).split('/')[-2]\n",
    "        res.append((f, name))\n",
    "\n",
    "    return res\n"
   ]
  },
  {
   "cell_type": "code",
   "execution_count": 37,
   "metadata": {},
   "outputs": [
    {
     "name": "stdout",
     "output_type": "stream",
     "text": [
      "../llms-ppl-preds/llama2-20231209/NLI/\n",
      "revised_hypothesis\n",
      "revised_combined\n",
      "revised_premise\n",
      "../llms-ppl-preds/counterfactually-augmented-data/NLI/\n",
      "revised_combined\n",
      "revised_premise\n",
      "original\n",
      "revised_hypothesis\n"
     ]
    }
   ],
   "source": [
    "#LLM = 'mistral-20240118'\n",
    "\n",
    "llms = ['llama2-20231209', 'counterfactually-augmented-data']\n",
    "SPLIT = 'test'\n",
    "\n",
    "results_dict = {}\n",
    "\n",
    "MODELS_COL = 'model'\n",
    "FLIPRATE_COL = 'cfs fliprate'\n",
    "CFS_PPL_COL = 'cfs ppl'\n",
    "ORIG_PPL_COL = 'orig ppl'\n",
    "COUNT = '#instances'\n",
    "\n",
    "for llm in llms: \n",
    "\n",
    "    DIR = '../llms-ppl-preds/{}/NLI/'.format(llm)\n",
    "\n",
    "    test_sets = get_test_sets(DIR)\n",
    "    for t, name in test_sets:\n",
    "\n",
    "        if 'all_combined' in name:\n",
    "            continue\n",
    "        print(name)\n",
    "        df = pd.read_csv(t, sep= '\\t')\n",
    "        # LLM\n",
    "        if llm == 'counterfactually-augmented-data':\n",
    "            llm = 'cad'\n",
    "        models = results_dict.get(MODELS_COL, [])\n",
    "        models.append(llm.split('-')[0] + '_' +name)\n",
    "        results_dict[MODELS_COL] = models\n",
    "\n",
    "        # CFs Fliprate\n",
    "        cf_fliprate = compute_fliprate(df)\n",
    "        cf_frates = results_dict.get(FLIPRATE_COL, [])\n",
    "        cf_frates.append(cf_fliprate)\n",
    "        results_dict[FLIPRATE_COL] = cf_frates\n",
    "\n",
    "\n",
    "        # COUNT\n",
    "        counts = results_dict.get(COUNT, [])\n",
    "        counts.append(df['gold_label'].count())\n",
    "        results_dict[COUNT] = counts"
   ]
  },
  {
   "cell_type": "code",
   "execution_count": 38,
   "metadata": {},
   "outputs": [
    {
     "data": {
      "text/plain": [
       "{'model': ['llama2_revised_hypothesis',\n",
       "  'llama2_revised_combined',\n",
       "  'llama2_revised_premise',\n",
       "  'cad_revised_combined',\n",
       "  'cad_revised_premise',\n",
       "  'cad_original',\n",
       "  'cad_revised_hypothesis'],\n",
       " 'cfs fliprate': [0.3864491844416562,\n",
       "  0.39808306709265173,\n",
       "  0.41015625,\n",
       "  0.694375,\n",
       "  0.59125,\n",
       "  0.88,\n",
       "  0.7975],\n",
       " '#instances': [797, 1565, 768, 1600, 800, 400, 800]}"
      ]
     },
     "execution_count": 38,
     "metadata": {},
     "output_type": "execute_result"
    }
   ],
   "source": [
    "results_dict"
   ]
  },
  {
   "cell_type": "code",
   "execution_count": 39,
   "metadata": {},
   "outputs": [
    {
     "data": {
      "text/html": [
       "<div>\n",
       "<style scoped>\n",
       "    .dataframe tbody tr th:only-of-type {\n",
       "        vertical-align: middle;\n",
       "    }\n",
       "\n",
       "    .dataframe tbody tr th {\n",
       "        vertical-align: top;\n",
       "    }\n",
       "\n",
       "    .dataframe thead th {\n",
       "        text-align: right;\n",
       "    }\n",
       "</style>\n",
       "<table border=\"1\" class=\"dataframe\">\n",
       "  <thead>\n",
       "    <tr style=\"text-align: right;\">\n",
       "      <th></th>\n",
       "      <th>model</th>\n",
       "      <th>cfs fliprate</th>\n",
       "      <th>#instances</th>\n",
       "    </tr>\n",
       "  </thead>\n",
       "  <tbody>\n",
       "    <tr>\n",
       "      <th>0</th>\n",
       "      <td>llama2_revised_hypothesis</td>\n",
       "      <td>38.64</td>\n",
       "      <td>797</td>\n",
       "    </tr>\n",
       "    <tr>\n",
       "      <th>1</th>\n",
       "      <td>llama2_revised_combined</td>\n",
       "      <td>39.81</td>\n",
       "      <td>1565</td>\n",
       "    </tr>\n",
       "    <tr>\n",
       "      <th>2</th>\n",
       "      <td>llama2_revised_premise</td>\n",
       "      <td>41.02</td>\n",
       "      <td>768</td>\n",
       "    </tr>\n",
       "    <tr>\n",
       "      <th>3</th>\n",
       "      <td>cad_revised_combined</td>\n",
       "      <td>69.44</td>\n",
       "      <td>1600</td>\n",
       "    </tr>\n",
       "    <tr>\n",
       "      <th>4</th>\n",
       "      <td>cad_revised_premise</td>\n",
       "      <td>59.13</td>\n",
       "      <td>800</td>\n",
       "    </tr>\n",
       "    <tr>\n",
       "      <th>5</th>\n",
       "      <td>cad_original</td>\n",
       "      <td>88.00</td>\n",
       "      <td>400</td>\n",
       "    </tr>\n",
       "    <tr>\n",
       "      <th>6</th>\n",
       "      <td>cad_revised_hypothesis</td>\n",
       "      <td>79.75</td>\n",
       "      <td>800</td>\n",
       "    </tr>\n",
       "  </tbody>\n",
       "</table>\n",
       "</div>"
      ],
      "text/plain": [
       "                       model  cfs fliprate  #instances\n",
       "0  llama2_revised_hypothesis         38.64         797\n",
       "1    llama2_revised_combined         39.81        1565\n",
       "2     llama2_revised_premise         41.02         768\n",
       "3       cad_revised_combined         69.44        1600\n",
       "4        cad_revised_premise         59.13         800\n",
       "5               cad_original         88.00         400\n",
       "6     cad_revised_hypothesis         79.75         800"
      ]
     },
     "execution_count": 39,
     "metadata": {},
     "output_type": "execute_result"
    }
   ],
   "source": [
    "df_results = pd.DataFrame.from_dict(results_dict)\n",
    "df_results['cfs fliprate'] = df_results['cfs fliprate']*100\n",
    "df_results = df_results.round(2)\n",
    "df_results"
   ]
  }
 ],
 "metadata": {
  "kernelspec": {
   "display_name": "cfg",
   "language": "python",
   "name": "python3"
  },
  "language_info": {
   "codemirror_mode": {
    "name": "ipython",
    "version": 3
   },
   "file_extension": ".py",
   "mimetype": "text/x-python",
   "name": "python",
   "nbconvert_exporter": "python",
   "pygments_lexer": "ipython3",
   "version": "3.9.12"
  }
 },
 "nbformat": 4,
 "nbformat_minor": 2
}
