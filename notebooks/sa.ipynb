{
 "cells": [
  {
   "cell_type": "code",
   "execution_count": null,
   "id": "5e4ed380",
   "metadata": {
    "ExecuteTime": {
     "end_time": "2022-07-13T08:55:48.581689Z",
     "start_time": "2022-07-13T08:55:47.211408Z"
    }
   },
   "outputs": [],
   "source": [
    "import os\n",
    "import re\n",
    "import numpy as np\n",
    "from pathlib import Path\n",
    "\n",
    "from datasets import load_dataset\n",
    "import torch \n",
    "import json \n",
    "\n",
    "from transformers import (\n",
    "    AutoModelForSequenceClassification,\n",
    "    AutoTokenizer,\n",
    "    DataCollatorWithPadding,\n",
    "    Trainer,\n",
    "    TrainingArguments,\n",
    ")\n",
    "\n",
    "from sklearn.preprocessing import LabelEncoder\n",
    "from sklearn.metrics import classification_report"
   ]
  },
  {
   "cell_type": "markdown",
   "id": "1810e1ed",
   "metadata": {},
   "source": []
  },
  {
   "cell_type": "markdown",
   "id": "eec166ef",
   "metadata": {},
   "source": [
    "## Configuration"
   ]
  },
  {
   "cell_type": "code",
   "execution_count": null,
   "id": "67aa410b",
   "metadata": {
    "ExecuteTime": {
     "end_time": "2022-07-13T08:55:48.588242Z",
     "start_time": "2022-07-13T08:55:48.584760Z"
    }
   },
   "outputs": [],
   "source": [
    "OUT_PATH = '../output/'\n",
    "MODEL_NAME = \"bert-base-cased\"\n",
    "\n",
    "os.environ[\"CUDA_VISIBLE_DEVICES\"] = \"2\"\n"
   ]
  },
  {
   "cell_type": "code",
   "execution_count": null,
   "id": "52d8a90f",
   "metadata": {
    "ExecuteTime": {
     "end_time": "2022-07-13T08:55:48.595270Z",
     "start_time": "2022-07-13T08:55:48.590172Z"
    }
   },
   "outputs": [],
   "source": [
    "import sys\n",
    "sys.path.append('../src/')\n",
    "from utils.utils import set_seed\n",
    "set_seed(42)"
   ]
  },
  {
   "cell_type": "markdown",
   "id": "ffb73b86",
   "metadata": {},
   "source": [
    "## Load Dataset"
   ]
  },
  {
   "cell_type": "code",
   "execution_count": null,
   "id": "7e2c6839",
   "metadata": {
    "ExecuteTime": {
     "end_time": "2022-07-13T08:55:49.176846Z",
     "start_time": "2022-07-13T08:55:48.597765Z"
    }
   },
   "outputs": [],
   "source": [
    "data_files = {\n",
    "    \"train\": \"../counterfactually-augmented-data/sentiment/orig/train.tsv\", \n",
    "    \"dev\": \"../counterfactually-augmented-data/sentiment/orig/dev.tsv\", \n",
    "    \"test\": \"../counterfactually-augmented-data/sentiment/orig/test.tsv\", \n",
    "}\n",
    "\n",
    "data = load_dataset(\"csv\", data_files=data_files, sep = '\\t')\n",
    "\n",
    "LABEL_ENCODER = LabelEncoder()\n",
    "LABEL_ENCODER.fit(data['train']['Sentiment'])\n",
    "LABEL_ENCODER.classes_"
   ]
  },
  {
   "cell_type": "markdown",
   "id": "ec485167",
   "metadata": {},
   "source": [
    "## Preprocessing"
   ]
  },
  {
   "cell_type": "code",
   "execution_count": null,
   "id": "3bb55a90",
   "metadata": {
    "ExecuteTime": {
     "end_time": "2022-07-13T08:55:54.181328Z",
     "start_time": "2022-07-13T08:55:49.179335Z"
    }
   },
   "outputs": [],
   "source": [
    "tokenizer = AutoTokenizer.from_pretrained(\n",
    "    MODEL_NAME,\n",
    "    do_lower_case=False\n",
    ")\n",
    "\n",
    "def preprocess(row):\n",
    "    d = {             \n",
    "    }\n",
    "\n",
    "    d['input'] = row['Text']\n",
    "    d['label'] = LABEL_ENCODER.transform([row['Sentiment']])[0]\n",
    "    return d\n",
    "\n",
    "def tokenize(examples):\n",
    "    return tokenizer(\n",
    "        examples['input'],\n",
    "        truncation=True,\n",
    "        max_length=512\n",
    "    )\n",
    "data = data.map(preprocess)\n",
    "data = data.map(tokenize, batched=True)\n"
   ]
  },
  {
   "cell_type": "code",
   "execution_count": null,
   "id": "d6191dd6",
   "metadata": {
    "ExecuteTime": {
     "end_time": "2022-07-13T08:55:54.204842Z",
     "start_time": "2022-07-13T08:55:54.184061Z"
    }
   },
   "outputs": [],
   "source": [
    "data = data.map(preprocess)\n",
    "data = data.map(tokenize, batched=True)"
   ]
  },
  {
   "cell_type": "code",
   "execution_count": null,
   "id": "124372be",
   "metadata": {
    "ExecuteTime": {
     "end_time": "2022-07-13T08:55:54.212578Z",
     "start_time": "2022-07-13T08:55:54.206964Z"
    }
   },
   "outputs": [],
   "source": [
    "tokenizer.decode(data['train'][0]['input_ids'])"
   ]
  },
  {
   "cell_type": "markdown",
   "id": "5d80bb7e",
   "metadata": {},
   "source": [
    "## Train Model"
   ]
  },
  {
   "cell_type": "code",
   "execution_count": null,
   "id": "980aa595",
   "metadata": {
    "ExecuteTime": {
     "end_time": "2022-07-13T08:56:56.552620Z",
     "start_time": "2022-07-13T08:56:55.589620Z"
    }
   },
   "outputs": [],
   "source": [
    "def get_model():\n",
    "    model = AutoModelForSequenceClassification.from_pretrained(\n",
    "    MODEL_NAME,\n",
    "    num_labels=len(LABEL_ENCODER.classes_)\n",
    "    )\n",
    "    model.resize_token_embeddings(len(tokenizer))\n",
    "    \n",
    "    return model"
   ]
  },
  {
   "cell_type": "code",
   "execution_count": null,
   "id": "d51cecf8",
   "metadata": {},
   "outputs": [],
   "source": [
    "import ray\n",
    "from ray import tune\n",
    "from ray.tune import CLIReporter\n",
    "\n",
    "from ray.tune.schedulers import PopulationBasedTraining\n"
   ]
  },
  {
   "cell_type": "code",
   "execution_count": null,
   "id": "e61b3d5f",
   "metadata": {},
   "outputs": [],
   "source": [
    "from sklearn.metrics import precision_recall_fscore_support\n",
    "from sklearn.metrics import accuracy_score as acc\n",
    "\n",
    "def compute_metrics(pred):\n",
    "    labels = pred.label_ids\n",
    "    preds = pred.predictions.argmax(-1)\n",
    "    precision, recall, f1, _ = precision_recall_fscore_support(labels, preds, average='macro')\n",
    "    accuracy = acc(labels, preds)\n",
    "    return {\n",
    "        'f1': f1,\n",
    "        'precision': precision,\n",
    "        'recall': recall,\n",
    "        'acc': accuracy\n",
    "    }"
   ]
  },
  {
   "cell_type": "code",
   "execution_count": null,
   "id": "d5296a5e",
   "metadata": {
    "ExecuteTime": {
     "end_time": "2022-07-13T08:57:01.864909Z",
     "start_time": "2022-07-13T08:56:58.293647Z"
    },
    "scrolled": false
   },
   "outputs": [],
   "source": [
    "import os\n",
    "smoke_test = True\n",
    "os.environ[\"TOKENIZERS_PARALLELISM\"] = \"false\"\n",
    "\n",
    "training_args = TrainingArguments(\n",
    "    output_dir=OUT_PATH,\n",
    "    num_train_epochs=1,\n",
    "    learning_rate=5e-5,\n",
    "    warmup_ratio=0,\n",
    "    weight_decay=0,\n",
    "    per_device_train_batch_size=8,\n",
    "    per_device_eval_batch_size=512,\n",
    "    logging_strategy=\"steps\",\n",
    "    logging_steps=20,\n",
    "    evaluation_strategy=\"steps\",\n",
    "    eval_steps=20,\n",
    "    save_strategy=\"steps\",\n",
    "    save_steps=20,\n",
    "    load_best_model_at_end=True,\n",
    "    save_total_limit=2,\n",
    "    metric_for_best_model='eval_acc',\n",
    ")\n",
    "\n",
    "trainer = Trainer(model_init= get_model, \n",
    "    args=training_args,\n",
    "    train_dataset=data[\"train\"],\n",
    "    eval_dataset=data[\"dev\"],\n",
    "    tokenizer=tokenizer,\n",
    "    compute_metrics=compute_metrics,\n",
    ")\n",
    "\n",
    "tune_config = {\n",
    "    \"per_device_train_batch_size\": tune.choice([16, 32, 64]),\n",
    "    \"per_device_eval_batch_size\": 64,\n",
    "    \"num_train_epochs\": 5,\n",
    "    \"max_steps\": 1 if smoke_test else -1,  \n",
    "}\n",
    "\n",
    "scheduler = PopulationBasedTraining(\n",
    "    time_attr=\"training_iteration\",\n",
    "    metric= \"eval_acc\", \n",
    "    mode=\"max\",\n",
    "    perturbation_interval=1,\n",
    "    hyperparam_mutations={\n",
    "        \"weight_decay\": tune.uniform(0.0, 0.3),\n",
    "        \"learning_rate\": tune.uniform(1e-5, 5e-5),\n",
    "        \"per_device_train_batch_size\": [16, 32, 64],\n",
    "        \"warmup_ratio\":[0.1, 0.2, 0.5]\n",
    "    },\n",
    ")\n",
    "\n",
    "reporter = CLIReporter(\n",
    "    parameter_columns={\n",
    "        \"learning_rate\": \"lr\",\n",
    "        \"per_device_train_batch_size\": \"train_bs/gpu\",\n",
    "        \"num_train_epochs\": \"num_epochs\",\n",
    "        \"warmup_ratio\" : \"warmup_ratio\"\n",
    "    },\n",
    "    metric_columns=[\"eval_f1\", \"eval_loss\", \"epoch\", \"training_iteration\"],\n",
    ")\n",
    "\n",
    "\n",
    "best_run = trainer.hyperparameter_search(\n",
    "    hp_space=lambda _: tune_config, #  A function that defines the hyperparameter search space.\n",
    "    backend=\"ray\",\n",
    "    n_trials=10, # test with one only \n",
    "    resources_per_trial={\"cpu\": 1, \"gpu\": 1},\n",
    "    scheduler=scheduler,\n",
    "    keep_checkpoints_num=1,\n",
    "    checkpoint_score_attr=\"training_iteration\",\n",
    "    stop={\"training_iteration\": 1} if smoke_test else None,\n",
    "    progress_reporter=reporter,\n",
    "    local_dir=\"./ray_results/\",\n",
    "    name=\"tune_transformer_pbt\",\n",
    "    log_to_file=True,   # \n",
    "    direction=\"maximize\",\n",
    "    \n",
    ")"
   ]
  },
  {
   "cell_type": "code",
   "execution_count": null,
   "id": "dbab15de",
   "metadata": {},
   "outputs": [],
   "source": [
    "best_run "
   ]
  },
  {
   "cell_type": "code",
   "execution_count": null,
   "id": "6ff4d8a9",
   "metadata": {},
   "outputs": [],
   "source": [
    "for n, v in best_run.hyperparameters.items():\n",
    "    setattr(trainer.args, n, v)\n",
    "\n",
    "trainer.train()\n",
    "\n"
   ]
  },
  {
   "cell_type": "markdown",
   "id": "7a73449f",
   "metadata": {},
   "source": [
    "## Inference on train/dev/test"
   ]
  },
  {
   "cell_type": "code",
   "execution_count": null,
   "id": "722c91f8",
   "metadata": {
    "ExecuteTime": {
     "end_time": "2022-07-13T09:05:36.292464Z",
     "start_time": "2022-07-13T09:05:36.283052Z"
    }
   },
   "outputs": [],
   "source": [
    "def predict(trainer, data, split_name: str, out_path):\n",
    "    out_path = Path(out_path)\n",
    "    preds = trainer.predict(data[split_name])\n",
    "    logits = torch.tensor(preds.predictions)\n",
    "    y_pred = np.argmax(preds.predictions, axis=-1)\n",
    "    y_pred_proba = torch.nn.functional.softmax(logits, dim=1)\n",
    "    y_true = preds.label_ids\n",
    "    print(f\"Evaluate {split_name}\\n\")\n",
    "    print(classification_report(y_true, y_pred, digits=3))\n",
    "    \n",
    "    with open(out_path / f\"y_true_{split_name}.txt\", \"w\") as fout:\n",
    "        for i in y_true:\n",
    "            fout.write(str(i) + \"\\n\")\n",
    "\n",
    "    with open(out_path / f\"y_pred_{split_name}.txt\", \"w\") as fout:\n",
    "        for i in y_pred:\n",
    "            fout.write(str(i) + \"\\n\")\n",
    "            \n",
    "    with open(out_path / f\"y_pred_proba_{split_name}.jsonl\", \"w\") as fout:\n",
    "        for ps in y_pred_proba.tolist():\n",
    "            json.dump(ps, fout)\n",
    "            fout.write('\\n')"
   ]
  },
  {
   "cell_type": "code",
   "execution_count": null,
   "id": "312c1444",
   "metadata": {
    "ExecuteTime": {
     "end_time": "2022-07-13T09:05:42.200899Z",
     "start_time": "2022-07-13T09:05:36.791959Z"
    },
    "scrolled": false
   },
   "outputs": [],
   "source": [
    "predict(trainer, data, 'train', out_path=OUT_PATH)"
   ]
  },
  {
   "cell_type": "code",
   "execution_count": null,
   "id": "c86b45de",
   "metadata": {
    "ExecuteTime": {
     "end_time": "2022-07-13T09:05:45.183984Z",
     "start_time": "2022-07-13T09:05:44.331868Z"
    }
   },
   "outputs": [],
   "source": [
    "predict(trainer, data, 'dev', out_path=OUT_PATH)"
   ]
  }
 ],
 "metadata": {
  "hide_input": false,
  "kernelspec": {
   "display_name": "Python 3.9.12 ('soapnotes2')",
   "language": "python",
   "name": "python3"
  },
  "language_info": {
   "codemirror_mode": {
    "name": "ipython",
    "version": 3
   },
   "file_extension": ".py",
   "mimetype": "text/x-python",
   "name": "python",
   "nbconvert_exporter": "python",
   "pygments_lexer": "ipython3",
   "version": "3.9.12"
  },
  "toc": {
   "base_numbering": 1,
   "nav_menu": {},
   "number_sections": true,
   "sideBar": true,
   "skip_h1_title": true,
   "title_cell": "Table of Contents",
   "title_sidebar": "Contents",
   "toc_cell": false,
   "toc_position": {},
   "toc_section_display": true,
   "toc_window_display": false
  },
  "vscode": {
   "interpreter": {
    "hash": "f86074cad135bc33009d65207c26d7a77566723c0fa5d3968bcf24d742a483b2"
   }
  }
 },
 "nbformat": 4,
 "nbformat_minor": 5
}
